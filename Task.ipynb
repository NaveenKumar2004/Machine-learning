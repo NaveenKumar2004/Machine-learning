{
 "cells": [
  {
   "cell_type": "markdown",
   "id": "92caba3a-f0b7-487e-bc6f-2624c6e9d8a2",
   "metadata": {},
   "source": [
    "##### import responsible library of Data Manipulate and Processing\n",
    "\n"
   ]
  },
  {
   "cell_type": "code",
   "execution_count": null,
   "id": "1ea98bae-5662-4b1b-9611-f890d495da83",
   "metadata": {},
   "outputs": [],
   "source": []
  },
  {
   "cell_type": "markdown",
   "id": "52269221-d236-43a1-998a-75c14926aec3",
   "metadata": {},
   "source": [
    "##### Load csv and excel files\n",
    "\n"
   ]
  },
  {
   "cell_type": "markdown",
   "id": "a9a4aad4-2feb-46ab-9e77-348c7325ed39",
   "metadata": {},
   "source": []
  },
  {
   "cell_type": "markdown",
   "id": "c2a580bc-6039-4293-ac9c-f6b408de5090",
   "metadata": {},
   "source": [
    "##### Check how many non-null values present in your csv files\n",
    "\n"
   ]
  },
  {
   "cell_type": "code",
   "execution_count": null,
   "id": "9e7ab901-9d8d-422f-be13-51f4915003d1",
   "metadata": {},
   "outputs": [],
   "source": []
  },
  {
   "cell_type": "markdown",
   "id": "c10c69b6-422e-4d11-92f0-efc51f2a65e7",
   "metadata": {},
   "source": [
    "##### What are the different type of product is there?"
   ]
  },
  {
   "cell_type": "code",
   "execution_count": null,
   "id": "039d57b4-c509-42bd-b406-370591501cbc",
   "metadata": {},
   "outputs": [],
   "source": []
  },
  {
   "cell_type": "markdown",
   "id": "653b56fc-76a4-49b2-bd38-4409b52c33b6",
   "metadata": {},
   "source": [
    "##### Find how many unique orders in this given data?"
   ]
  },
  {
   "cell_type": "code",
   "execution_count": null,
   "id": "97082176-8afb-4db8-a57c-c5fc6c9fff35",
   "metadata": {},
   "outputs": [],
   "source": []
  },
  {
   "cell_type": "markdown",
   "id": "0a8e168a-9071-4eba-8872-27701ac5564d",
   "metadata": {},
   "source": [
    "##### Find how many frequently orders can get cancelled?\n"
   ]
  },
  {
   "cell_type": "code",
   "execution_count": null,
   "id": "b2a7c85a-e7d2-4428-97a7-ec916f1c1224",
   "metadata": {},
   "outputs": [],
   "source": []
  },
  {
   "cell_type": "markdown",
   "id": "3389b14b-7952-4c7f-a914-739d57a8bd07",
   "metadata": {},
   "source": [
    "##### Find what is the  Percentage of Delivered orders ?"
   ]
  },
  {
   "cell_type": "code",
   "execution_count": null,
   "id": "76ac6b62-2c6e-4dbc-80ad-c654e07ee7ba",
   "metadata": {},
   "outputs": [],
   "source": []
  },
  {
   "cell_type": "markdown",
   "id": "698d88d4-9215-42a6-8642-f71be9a3e81e",
   "metadata": {},
   "source": [
    "##### Find which city is the top of the shippment?"
   ]
  },
  {
   "cell_type": "code",
   "execution_count": null,
   "id": "f69029b5-7712-47aa-94aa-3db415064e0a",
   "metadata": {},
   "outputs": [],
   "source": []
  },
  {
   "cell_type": "markdown",
   "id": "5a2a3a7b-e685-4e18-84d9-1f021c67a7ce",
   "metadata": {},
   "source": [
    "##### Which type of product people mostly ordered?"
   ]
  },
  {
   "cell_type": "code",
   "execution_count": null,
   "id": "2c0a172b-6d2c-4072-8a8a-20344a7d1f13",
   "metadata": {},
   "outputs": [],
   "source": []
  },
  {
   "cell_type": "markdown",
   "id": "4c657bb6-ec5d-4c61-8ff1-504b3fb83e6a",
   "metadata": {},
   "source": [
    "##### Find Top 5 most profitable cities ?"
   ]
  },
  {
   "cell_type": "code",
   "execution_count": null,
   "id": "caf89a5b-46ec-443a-b36f-58493f0c4b68",
   "metadata": {},
   "outputs": [],
   "source": []
  },
  {
   "cell_type": "markdown",
   "id": "6cff1e19-05c8-48a8-8b22-a137a3001513",
   "metadata": {},
   "source": [
    "##### Split categorical and Numerical data using built-in functions"
   ]
  },
  {
   "cell_type": "code",
   "execution_count": null,
   "id": "76d8a880-e884-4632-bfe7-12f6cf3b500c",
   "metadata": {},
   "outputs": [],
   "source": []
  },
  {
   "cell_type": "code",
   "execution_count": null,
   "id": "b2da54bf-3c68-47a3-924e-d50baaf0d336",
   "metadata": {},
   "outputs": [],
   "source": [
    "#check "
   ]
  }
 ],
 "metadata": {
  "kernelspec": {
   "display_name": "Python 3 (ipykernel)",
   "language": "python",
   "name": "python3"
  },
  "language_info": {
   "codemirror_mode": {
    "name": "ipython",
    "version": 3
   },
   "file_extension": ".py",
   "mimetype": "text/x-python",
   "name": "python",
   "nbconvert_exporter": "python",
   "pygments_lexer": "ipython3",
   "version": "3.8.6"
  }
 },
 "nbformat": 4,
 "nbformat_minor": 5
}
